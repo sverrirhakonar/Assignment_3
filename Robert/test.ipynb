{
 "cells": [
  {
   "cell_type": "markdown",
   "id": "b314be16",
   "metadata": {},
   "source": [
    "## Unit test the strategies:"
   ]
  },
  {
   "cell_type": "code",
   "execution_count": 1,
   "id": "4676b9b4",
   "metadata": {},
   "outputs": [],
   "source": [
    "import data_loader\n",
    "from data_loader import read_csv_to_immutable_list\n",
    "from profiler import profile_memory, run_strategies_memory_check, run_strategies_time_check, run_data_loader_time_check, plot_profiling_results\n",
    "from models import Strategy\n",
    "from strategies import NaiveMovingAverageStrategy, NaiveMovingAverageStrategyOptimized, WindowedMovingAverageStrategy\n",
    "from tqdm import tqdm\n",
    "import timeit\n",
    "import pandas as pd"
   ]
  },
  {
   "cell_type": "code",
   "execution_count": 4,
   "id": "a23c05c6",
   "metadata": {},
   "outputs": [
    {
     "name": "stdout",
     "output_type": "stream",
     "text": [
      "Successfully read the CSV files to MarketDataPoints, and profiled the memory usage and time elapsed for each file.\n"
     ]
    },
    {
     "name": "stderr",
     "output_type": "stream",
     "text": [
      "Running strategy: 100%|██████████| 100001/100001 [00:51<00:00, 1947.14it/s]"
     ]
    },
    {
     "name": "stdout",
     "output_type": "stream",
     "text": [
      "Successfully ran memory and time checks for each strategy and plotted the performance.\n",
      "Memory usage was: 206.63 MB and the time to run was: 0.12 seconds.\n"
     ]
    },
    {
     "name": "stderr",
     "output_type": "stream",
     "text": [
      "\n"
     ]
    }
   ],
   "source": [
    "\n",
    "strategies = [WindowedMovingAverageStrategy]\n",
    "file_paths = [\"market_data_100k.csv\"]\n",
    "file_path_name_dict = {\"Robert/market_data_1k.csv\" : \"1k\", \"Robert/market_data_10k.csv\": \"10k\", \"Robert/market_data_100k.csv\": \"100k\"}\n",
    "# Check time and memory usage to load CSV to MarketDataPoints\n",
    "price_history_dict = {}\n",
    "for file_path in file_paths:\n",
    "    elapsed_time, price_hist = run_data_loader_time_check(file_path)\n",
    "    price_history_dict[file_path] = (elapsed_time, price_hist, price_hist)\n",
    "        \n",
    "print(\"Successfully read the CSV files to MarketDataPoints, and profiled the memory usage and time elapsed for each file.\")\n",
    "    \n",
    "profiled_df = { \n",
    "(s.__name__ if hasattr(s, \"__name__\") else str(s)): {} \n",
    "for s in strategies\n",
    "}\n",
    "\n",
    "for strat in strategies:\n",
    "    price_hist = price_history_dict[file_path][2]\n",
    "    strat_name = strat.__name__ if hasattr(strat, \"__name__\") else str(strat)\n",
    "    for file_path in file_paths:\n",
    "        price_hist = price_history_dict[file_path][2]\n",
    "        max_mem, signals = run_strategies_memory_check(strat, price_hist, max_memory = True)\n",
    "        elapsed_time, signals = run_strategies_time_check(strat, price_hist)\n",
    "\n",
    "print(\"Successfully ran memory and time checks for each strategy and plotted the performance.\")\n",
    "print(f\"Memory usage was: {max_mem:.2f} MB and the time to run was: {elapsed_time:.2f} seconds.\")"
   ]
  }
 ],
 "metadata": {
  "kernelspec": {
   "display_name": "base",
   "language": "python",
   "name": "python3"
  },
  "language_info": {
   "codemirror_mode": {
    "name": "ipython",
    "version": 3
   },
   "file_extension": ".py",
   "mimetype": "text/x-python",
   "name": "python",
   "nbconvert_exporter": "python",
   "pygments_lexer": "ipython3",
   "version": "3.13.5"
  }
 },
 "nbformat": 4,
 "nbformat_minor": 5
}
